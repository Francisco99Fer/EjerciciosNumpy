{
  "nbformat": 4,
  "nbformat_minor": 0,
  "metadata": {
    "colab": {
      "provenance": [],
      "collapsed_sections": [],
      "authorship_tag": "ABX9TyOogGpq4/P5v/oGgPm7rGEd",
      "include_colab_link": true
    },
    "kernelspec": {
      "name": "python3",
      "display_name": "Python 3"
    },
    "language_info": {
      "name": "python"
    }
  },
  "cells": [
    {
      "cell_type": "markdown",
      "metadata": {
        "id": "view-in-github",
        "colab_type": "text"
      },
      "source": [
        "<a href=\"https://colab.research.google.com/github/Francisco99Fer/EjerciciosNumpy/blob/main/Ejercicio_Munpy.ipynb\" target=\"_parent\"><img src=\"https://colab.research.google.com/assets/colab-badge.svg\" alt=\"Open In Colab\"/></a>"
      ]
    },
    {
      "cell_type": "markdown",
      "source": [
        "**a) Implementa un método al que se le pase el ancho y el alto de la imagen y el color de la\n",
        "misma. El método debe devolver la imagen creada**"
      ],
      "metadata": {
        "id": "cMv8qRXTnfwc"
      }
    },
    {
      "cell_type": "code",
      "execution_count": 1,
      "metadata": {
        "colab": {
          "base_uri": "https://localhost:8080/",
          "height": 217
        },
        "id": "0nIXwjMlnZ68",
        "outputId": "d1d85038-8c5f-48f2-e115-eb5ed9face6e"
      },
      "outputs": [
        {
          "output_type": "execute_result",
          "data": {
            "text/plain": [
              "<PIL.Image.Image image mode=RGB size=500x200 at 0x7F638E583250>"
            ],
            "image/png": "[encoded data removed]"
          },
          "metadata": {},
          "execution_count": 1
        }
      ],
      "source": [
        "from PIL import Image\n",
        "import numpy as np\n",
        "\n",
        "class Imagen():\n",
        "\n",
        "  pixeles=np.zeros((1, 1, 3), dtype = np.uint8 )\n",
        "  ancho=0\n",
        "  alto=0\n",
        "  red_rgb=0\n",
        "  green_rgb=0\n",
        "  blue_rgb=0\n",
        "\n",
        "  def __init__(self, pixeles, ancho, alto, red_rgb, green_rgb, blue_rgb):\n",
        "    self.pixeles = pixeles\n",
        "    self.ancho = ancho\n",
        "    self.alto = alto\n",
        "    self.red_rgb = red_rgb\n",
        "    self.green_rgb = green_rgb\n",
        "    self.blue_rgb = blue_rgb\n",
        "  \n",
        "  def crea_imagen(self):\n",
        "\n",
        "    self.pixeles = np.zeros((self.ancho, self.alto, 3), dtype = np.uint8 )\n",
        "\n",
        "    for i in range(0, self.pixeles.shape[0]):\n",
        "      for j in range(0, self.pixeles.shape[1]):\n",
        "        self.pixeles[i, j] = [self.red_rgb, self.green_rgb, self.blue_rgb]\n",
        "\n",
        "    img = Image.fromarray(self.pixeles)\n",
        "\n",
        "    return img\n",
        "  \n",
        "  def img(self):\n",
        "    return Image.fromarray(self.pixeles)\n",
        "  \n",
        "  def resize_image(self, ancho, alto):\n",
        "    imagen = Image.fromarray(self.pixeles)\n",
        "    imagen = imagen.resize((ancho, alto))\n",
        "    return imagen\n",
        "  \n",
        "  def resize_imagen_no_fake(self, ancho):\n",
        "    imagen = Image.fromarray(self.pixeles)\n",
        "    new_alto = (ancho * self.ancho) / self.alto\n",
        "    imagen = imagen.resize((ancho, new_alto))\n",
        "    return imagen\n",
        "\n",
        "\n",
        "# Creamos imagen\n",
        "img = Imagen(0, 200, 500, 255, 255, 0)\n",
        "img = img.crea_imagen()\n",
        "img"
      ]
    },
    {
      "cell_type": "markdown",
      "source": [
        "**c) Implementa un método que redimensiona una imagen al ancho y alto especificado, este\n",
        "método deforma la imagen si la relación de aspecto no es la misma**"
      ],
      "metadata": {
        "id": "BcJvKzvOpTxt"
      }
    },
    {
      "cell_type": "code",
      "source": [
        "img = img.resize_image(100, 400)\n",
        "img"
      ],
      "metadata": {
        "colab": {
          "base_uri": "https://localhost:8080/",
          "height": 182
        },
        "id": "9ILZFA5opX5s",
        "outputId": "3d67ac54-82ad-4fe6-f1ed-0acbff3aaa28"
      },
      "execution_count": 2,
      "outputs": [
        {
          "output_type": "error",
          "ename": "AttributeError",
          "evalue": "ignored",
          "traceback": [
            "\u001b[0;31m---------------------------------------------------------------------------\u001b[0m",
            "\u001b[0;31mAttributeError\u001b[0m                            Traceback (most recent call last)",
            "\u001b[0;32m<ipython-input-2-4c8d193b1803>\u001b[0m in \u001b[0;36m<module>\u001b[0;34m\u001b[0m\n\u001b[0;32m----> 1\u001b[0;31m \u001b[0mimg\u001b[0m \u001b[0;34m=\u001b[0m \u001b[0mimg\u001b[0m\u001b[0;34m.\u001b[0m\u001b[0mresize_image\u001b[0m\u001b[0;34m(\u001b[0m\u001b[0;36m100\u001b[0m\u001b[0;34m,\u001b[0m \u001b[0;36m400\u001b[0m\u001b[0;34m)\u001b[0m\u001b[0;34m\u001b[0m\u001b[0;34m\u001b[0m\u001b[0m\n\u001b[0m\u001b[1;32m      2\u001b[0m \u001b[0mimg\u001b[0m\u001b[0;34m\u001b[0m\u001b[0;34m\u001b[0m\u001b[0m\n",
            "\u001b[0;31mAttributeError\u001b[0m: 'Image' object has no attribute 'resize_image'"
          ]
        }
      ]
    },
    {
      "cell_type": "markdown",
      "source": [
        "**d) Implementa un método que redimensiona una imagen al ancho especificado, sin\n",
        "deformar la imagen.**"
      ],
      "metadata": {
        "id": "m3I4HbnkvsvP"
      }
    },
    {
      "cell_type": "code",
      "source": [
        "img = resize_imagen_no_fake(800)\n",
        "img"
      ],
      "metadata": {
        "colab": {
          "base_uri": "https://localhost:8080/",
          "height": 182
        },
        "id": "v9YI3HrZz6kN",
        "outputId": "7dc0b020-17d9-4e7e-e36d-24a7cccfcf1f"
      },
      "execution_count": 3,
      "outputs": [
        {
          "output_type": "error",
          "ename": "NameError",
          "evalue": "ignored",
          "traceback": [
            "\u001b[0;31m---------------------------------------------------------------------------\u001b[0m",
            "\u001b[0;31mNameError\u001b[0m                                 Traceback (most recent call last)",
            "\u001b[0;32m<ipython-input-3-9a179d0e0f76>\u001b[0m in \u001b[0;36m<module>\u001b[0;34m\u001b[0m\n\u001b[0;32m----> 1\u001b[0;31m \u001b[0mimg\u001b[0m \u001b[0;34m=\u001b[0m \u001b[0mresize_imagen_no_fake\u001b[0m\u001b[0;34m(\u001b[0m\u001b[0;36m800\u001b[0m\u001b[0;34m)\u001b[0m\u001b[0;34m\u001b[0m\u001b[0;34m\u001b[0m\u001b[0m\n\u001b[0m\u001b[1;32m      2\u001b[0m \u001b[0mimg\u001b[0m\u001b[0;34m\u001b[0m\u001b[0;34m\u001b[0m\u001b[0m\n",
            "\u001b[0;31mNameError\u001b[0m: name 'resize_imagen_no_fake' is not defined"
          ]
        }
      ]
    }
  ]
}